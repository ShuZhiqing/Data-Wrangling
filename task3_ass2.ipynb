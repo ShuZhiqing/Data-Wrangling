{
 "cells": [
  {
   "cell_type": "markdown",
   "metadata": {},
   "source": [
    "# FIT5196 Task 3 in Assessment 2\n",
    "#### Student Name: Zhiqing Shu\n",
    "#### Student ID: 28217551\n",
    "\n",
    "Date: 13/05/2018\n",
    "\n",
    "Version: 2.0\n",
    "\n",
    "Environment: Python and Anaconda \n",
    "\n",
    "Libraries used:\n",
    "* pandas 0.22.0 (for data frame, included in Anaconda Python 3.6)\n",
    "* numpy 1.12.1 (for data format, included in Anaconda Python 3.6)\n",
    "* sklearn 0.19.1 (for data mining and data analysis, included in Anaconda Python 3.6)\n",
    "* seaborn 0.8.1 (for statistical data visualization, included in Anaconda Python 3.6)\n",
    "* matplotlib 2.2.2 (for python 2D plotting, included in Anaconda Python 3.6)"
   ]
  },
  {
   "cell_type": "markdown",
   "metadata": {},
   "source": [
    "## Introduction\n",
    "In this task, you are required to find impute all the missing values by inspecting and analyzing the dataset3 (dataset3_with_missing.csv). In the end, save the fixed table in dataset3_solution.csv."
   ]
  },
  {
   "cell_type": "markdown",
   "metadata": {},
   "source": [
    "### 1. Import Library"
   ]
  },
  {
   "cell_type": "code",
   "execution_count": 1,
   "metadata": {},
   "outputs": [
    {
     "name": "stderr",
     "output_type": "stream",
     "text": [
      "/anaconda3/lib/python3.6/site-packages/sklearn/cross_validation.py:41: DeprecationWarning: This module was deprecated in version 0.18 in favor of the model_selection module into which all the refactored classes and functions are moved. Also note that the interface of the new CV iterators are different from that of this module. This module will be removed in 0.20.\n",
      "  \"This module will be removed in 0.20.\", DeprecationWarning)\n"
     ]
    }
   ],
   "source": [
    "import pandas as pd\n",
    "import numpy as np\n",
    "import seaborn as sns \n",
    "\n",
    "from sklearn.ensemble import RandomForestRegressor    \n",
    "from sklearn.metrics import r2_score\n",
    "from sklearn.cross_validation import ShuffleSplit, train_test_split\n",
    "\n",
    "\n",
    "import matplotlib.pyplot as plt\n"
   ]
  },
  {
   "cell_type": "markdown",
   "metadata": {},
   "source": [
    "### 2. Load the data and store it in a Panda DataFrame"
   ]
  },
  {
   "cell_type": "code",
   "execution_count": 2,
   "metadata": {},
   "outputs": [
    {
     "data": {
      "text/html": [
       "<div>\n",
       "<style scoped>\n",
       "    .dataframe tbody tr th:only-of-type {\n",
       "        vertical-align: middle;\n",
       "    }\n",
       "\n",
       "    .dataframe tbody tr th {\n",
       "        vertical-align: top;\n",
       "    }\n",
       "\n",
       "    .dataframe thead th {\n",
       "        text-align: right;\n",
       "    }\n",
       "</style>\n",
       "<table border=\"1\" class=\"dataframe\">\n",
       "  <thead>\n",
       "    <tr style=\"text-align: right;\">\n",
       "      <th></th>\n",
       "      <th>id</th>\n",
       "      <th>date</th>\n",
       "      <th>price</th>\n",
       "      <th>bedrooms</th>\n",
       "      <th>bathrooms</th>\n",
       "      <th>sqft_living</th>\n",
       "      <th>sqft_lot</th>\n",
       "      <th>floors</th>\n",
       "      <th>waterfront</th>\n",
       "      <th>view</th>\n",
       "      <th>condition</th>\n",
       "      <th>grade</th>\n",
       "      <th>sqft_above</th>\n",
       "      <th>sqft_basement</th>\n",
       "      <th>yr_built</th>\n",
       "      <th>yr_renovated</th>\n",
       "      <th>zipcode</th>\n",
       "      <th>lat</th>\n",
       "      <th>long</th>\n",
       "    </tr>\n",
       "  </thead>\n",
       "  <tbody>\n",
       "    <tr>\n",
       "      <th>0</th>\n",
       "      <td>1999700045</td>\n",
       "      <td>20140502T000000</td>\n",
       "      <td>313000</td>\n",
       "      <td>3</td>\n",
       "      <td>1.50</td>\n",
       "      <td>1340.0</td>\n",
       "      <td>7912</td>\n",
       "      <td>1.5</td>\n",
       "      <td>0</td>\n",
       "      <td>0</td>\n",
       "      <td>3</td>\n",
       "      <td>7</td>\n",
       "      <td>1340.0</td>\n",
       "      <td>0.0</td>\n",
       "      <td>1955</td>\n",
       "      <td>0</td>\n",
       "      <td>98133</td>\n",
       "      <td>47.7658</td>\n",
       "      <td>-122.339</td>\n",
       "    </tr>\n",
       "    <tr>\n",
       "      <th>1</th>\n",
       "      <td>1860600135</td>\n",
       "      <td>20140502T000000</td>\n",
       "      <td>2384000</td>\n",
       "      <td>5</td>\n",
       "      <td>2.50</td>\n",
       "      <td>3650.0</td>\n",
       "      <td>9050</td>\n",
       "      <td>2.0</td>\n",
       "      <td>0</td>\n",
       "      <td>4</td>\n",
       "      <td>5</td>\n",
       "      <td>10</td>\n",
       "      <td>3370.0</td>\n",
       "      <td>280.0</td>\n",
       "      <td>1921</td>\n",
       "      <td>0</td>\n",
       "      <td>98119</td>\n",
       "      <td>47.6345</td>\n",
       "      <td>-122.367</td>\n",
       "    </tr>\n",
       "    <tr>\n",
       "      <th>2</th>\n",
       "      <td>5467900070</td>\n",
       "      <td>20140502T000000</td>\n",
       "      <td>342000</td>\n",
       "      <td>3</td>\n",
       "      <td>2.00</td>\n",
       "      <td>1930.0</td>\n",
       "      <td>11947</td>\n",
       "      <td>1.0</td>\n",
       "      <td>0</td>\n",
       "      <td>0</td>\n",
       "      <td>4</td>\n",
       "      <td>8</td>\n",
       "      <td>1930.0</td>\n",
       "      <td>0.0</td>\n",
       "      <td>1966</td>\n",
       "      <td>0</td>\n",
       "      <td>98042</td>\n",
       "      <td>47.3672</td>\n",
       "      <td>-122.151</td>\n",
       "    </tr>\n",
       "    <tr>\n",
       "      <th>3</th>\n",
       "      <td>4040800810</td>\n",
       "      <td>20140502T000000</td>\n",
       "      <td>420000</td>\n",
       "      <td>3</td>\n",
       "      <td>2.25</td>\n",
       "      <td>2000.0</td>\n",
       "      <td>8030</td>\n",
       "      <td>1.0</td>\n",
       "      <td>0</td>\n",
       "      <td>0</td>\n",
       "      <td>4</td>\n",
       "      <td>8</td>\n",
       "      <td>1000.0</td>\n",
       "      <td>1000.0</td>\n",
       "      <td>1963</td>\n",
       "      <td>0</td>\n",
       "      <td>98008</td>\n",
       "      <td>47.6188</td>\n",
       "      <td>-122.114</td>\n",
       "    </tr>\n",
       "    <tr>\n",
       "      <th>4</th>\n",
       "      <td>7197300105</td>\n",
       "      <td>20140502T000000</td>\n",
       "      <td>550000</td>\n",
       "      <td>4</td>\n",
       "      <td>2.50</td>\n",
       "      <td>1940.0</td>\n",
       "      <td>10500</td>\n",
       "      <td>1.0</td>\n",
       "      <td>0</td>\n",
       "      <td>0</td>\n",
       "      <td>4</td>\n",
       "      <td>7</td>\n",
       "      <td>1140.0</td>\n",
       "      <td>800.0</td>\n",
       "      <td>1976</td>\n",
       "      <td>0</td>\n",
       "      <td>98052</td>\n",
       "      <td>47.6830</td>\n",
       "      <td>-122.114</td>\n",
       "    </tr>\n",
       "  </tbody>\n",
       "</table>\n",
       "</div>"
      ],
      "text/plain": [
       "           id             date    price  bedrooms  bathrooms  sqft_living  \\\n",
       "0  1999700045  20140502T000000   313000         3       1.50       1340.0   \n",
       "1  1860600135  20140502T000000  2384000         5       2.50       3650.0   \n",
       "2  5467900070  20140502T000000   342000         3       2.00       1930.0   \n",
       "3  4040800810  20140502T000000   420000         3       2.25       2000.0   \n",
       "4  7197300105  20140502T000000   550000         4       2.50       1940.0   \n",
       "\n",
       "   sqft_lot  floors  waterfront  view  condition  grade  sqft_above  \\\n",
       "0      7912     1.5           0     0          3      7      1340.0   \n",
       "1      9050     2.0           0     4          5     10      3370.0   \n",
       "2     11947     1.0           0     0          4      8      1930.0   \n",
       "3      8030     1.0           0     0          4      8      1000.0   \n",
       "4     10500     1.0           0     0          4      7      1140.0   \n",
       "\n",
       "   sqft_basement  yr_built  yr_renovated  zipcode      lat     long  \n",
       "0            0.0      1955             0    98133  47.7658 -122.339  \n",
       "1          280.0      1921             0    98119  47.6345 -122.367  \n",
       "2            0.0      1966             0    98042  47.3672 -122.151  \n",
       "3         1000.0      1963             0    98008  47.6188 -122.114  \n",
       "4          800.0      1976             0    98052  47.6830 -122.114  "
      ]
     },
     "execution_count": 2,
     "metadata": {},
     "output_type": "execute_result"
    }
   ],
   "source": [
    "dataset3 = pd.read_csv('dataset3_with_missing.csv')\n",
    "dataset3.head()"
   ]
  },
  {
   "cell_type": "markdown",
   "metadata": {},
   "source": [
    "### 3. Finding missing value and fill in the reasonable values"
   ]
  },
  {
   "cell_type": "markdown",
   "metadata": {},
   "source": [
    "Firstly, we need to know in which colums, the missing value occurs. We can get this information by calling `dataset3.info()`."
   ]
  },
  {
   "cell_type": "code",
   "execution_count": 3,
   "metadata": {},
   "outputs": [
    {
     "name": "stdout",
     "output_type": "stream",
     "text": [
      "<class 'pandas.core.frame.DataFrame'>\n",
      "RangeIndex: 9967 entries, 0 to 9966\n",
      "Data columns (total 19 columns):\n",
      "id               9967 non-null int64\n",
      "date             9967 non-null object\n",
      "price            9967 non-null int64\n",
      "bedrooms         9967 non-null int64\n",
      "bathrooms        9567 non-null float64\n",
      "sqft_living      9901 non-null float64\n",
      "sqft_lot         9967 non-null int64\n",
      "floors           9967 non-null float64\n",
      "waterfront       9967 non-null int64\n",
      "view             9967 non-null int64\n",
      "condition        9967 non-null int64\n",
      "grade            9967 non-null int64\n",
      "sqft_above       9900 non-null float64\n",
      "sqft_basement    9900 non-null float64\n",
      "yr_built         9967 non-null int64\n",
      "yr_renovated     9967 non-null int64\n",
      "zipcode          9967 non-null int64\n",
      "lat              9967 non-null float64\n",
      "long             9967 non-null float64\n",
      "dtypes: float64(7), int64(11), object(1)\n",
      "memory usage: 1.4+ MB\n"
     ]
    }
   ],
   "source": [
    "dataset3.info()"
   ]
  },
  {
   "cell_type": "markdown",
   "metadata": {},
   "source": [
    "**Columns with missing values:**\n",
    "* bathrooms\n",
    "* sqft_living      \n",
    "* sqft_above       \n",
    "* sqft_basement   "
   ]
  },
  {
   "cell_type": "code",
   "execution_count": 4,
   "metadata": {},
   "outputs": [
    {
     "data": {
      "text/plain": [
       "id                 0\n",
       "date               0\n",
       "price              0\n",
       "bedrooms           0\n",
       "bathrooms        400\n",
       "sqft_living       66\n",
       "sqft_lot           0\n",
       "floors             0\n",
       "waterfront         0\n",
       "view               0\n",
       "condition          0\n",
       "grade              0\n",
       "sqft_above        67\n",
       "sqft_basement     67\n",
       "yr_built           0\n",
       "yr_renovated       0\n",
       "zipcode            0\n",
       "lat                0\n",
       "long               0\n",
       "dtype: int64"
      ]
     },
     "execution_count": 4,
     "metadata": {},
     "output_type": "execute_result"
    }
   ],
   "source": [
    "dataset3.isnull().sum()"
   ]
  },
  {
   "cell_type": "markdown",
   "metadata": {},
   "source": [
    "### 3.1 Fill in 'sqft_living', 'sqft_above' and 'sqft_basement'"
   ]
  },
  {
   "cell_type": "markdown",
   "metadata": {},
   "source": [
    "Since `sqft_living`, `sqft_above` and `sqft_basement` are relevant to area. So we can try to check if there is any relationship between them.\n",
    "\n",
    "According to the data description: \n",
    "* sqft_living: The square footage of the property's interior living space\n",
    "* sqft_above: The square footage of the interior living space that is above ground level\n",
    "* sqft_basement: The square footage of the interior living space that is below ground level\n",
    "\n",
    "I guess **sqft_living = sqft_above + sqft_basement**"
   ]
  },
  {
   "cell_type": "markdown",
   "metadata": {},
   "source": [
    "Using following code to prove my inference."
   ]
  },
  {
   "cell_type": "code",
   "execution_count": 5,
   "metadata": {},
   "outputs": [
    {
     "data": {
      "text/plain": [
       "9767"
      ]
     },
     "execution_count": 5,
     "metadata": {},
     "output_type": "execute_result"
    }
   ],
   "source": [
    "len(dataset3[dataset3.sqft_above + dataset3.sqft_basement == dataset3.sqft_living].index)"
   ]
  },
  {
   "cell_type": "code",
   "execution_count": 6,
   "metadata": {},
   "outputs": [
    {
     "data": {
      "text/plain": [
       "200"
      ]
     },
     "execution_count": 6,
     "metadata": {},
     "output_type": "execute_result"
    }
   ],
   "source": [
    "len(dataset3[dataset3.sqft_above + dataset3.sqft_basement != dataset3.sqft_living].index)"
   ]
  },
  {
   "cell_type": "markdown",
   "metadata": {},
   "source": [
    "9767 out of 9967 records prove my inference and there are 200 records not. While the sum of missing value from `sqft_living`, `sqft_above` and `sqft_basement` is also 200. Just check if there is missing value occuring in these 200 records."
   ]
  },
  {
   "cell_type": "code",
   "execution_count": 7,
   "metadata": {},
   "outputs": [
    {
     "data": {
      "text/html": [
       "<div>\n",
       "<style scoped>\n",
       "    .dataframe tbody tr th:only-of-type {\n",
       "        vertical-align: middle;\n",
       "    }\n",
       "\n",
       "    .dataframe tbody tr th {\n",
       "        vertical-align: top;\n",
       "    }\n",
       "\n",
       "    .dataframe thead th {\n",
       "        text-align: right;\n",
       "    }\n",
       "</style>\n",
       "<table border=\"1\" class=\"dataframe\">\n",
       "  <thead>\n",
       "    <tr style=\"text-align: right;\">\n",
       "      <th></th>\n",
       "      <th>id</th>\n",
       "      <th>date</th>\n",
       "      <th>price</th>\n",
       "      <th>bedrooms</th>\n",
       "      <th>bathrooms</th>\n",
       "      <th>sqft_living</th>\n",
       "      <th>sqft_lot</th>\n",
       "      <th>floors</th>\n",
       "      <th>waterfront</th>\n",
       "      <th>view</th>\n",
       "      <th>condition</th>\n",
       "      <th>grade</th>\n",
       "      <th>sqft_above</th>\n",
       "      <th>sqft_basement</th>\n",
       "      <th>yr_built</th>\n",
       "      <th>yr_renovated</th>\n",
       "      <th>zipcode</th>\n",
       "      <th>lat</th>\n",
       "      <th>long</th>\n",
       "    </tr>\n",
       "  </thead>\n",
       "  <tbody>\n",
       "    <tr>\n",
       "      <th>146</th>\n",
       "      <td>6666830250</td>\n",
       "      <td>20140505T000000</td>\n",
       "      <td>712198</td>\n",
       "      <td>4</td>\n",
       "      <td>2.50</td>\n",
       "      <td>2450.0</td>\n",
       "      <td>4247</td>\n",
       "      <td>2.0</td>\n",
       "      <td>0</td>\n",
       "      <td>0</td>\n",
       "      <td>3</td>\n",
       "      <td>8</td>\n",
       "      <td>NaN</td>\n",
       "      <td>0.0</td>\n",
       "      <td>2013</td>\n",
       "      <td>0</td>\n",
       "      <td>98052</td>\n",
       "      <td>47.7048</td>\n",
       "      <td>-122.113</td>\n",
       "    </tr>\n",
       "    <tr>\n",
       "      <th>189</th>\n",
       "      <td>1223089050</td>\n",
       "      <td>20140506T000000</td>\n",
       "      <td>280000</td>\n",
       "      <td>3</td>\n",
       "      <td>1.75</td>\n",
       "      <td>NaN</td>\n",
       "      <td>11800</td>\n",
       "      <td>1.0</td>\n",
       "      <td>0</td>\n",
       "      <td>0</td>\n",
       "      <td>4</td>\n",
       "      <td>7</td>\n",
       "      <td>1630.0</td>\n",
       "      <td>0.0</td>\n",
       "      <td>1971</td>\n",
       "      <td>0</td>\n",
       "      <td>98045</td>\n",
       "      <td>47.4863</td>\n",
       "      <td>-121.730</td>\n",
       "    </tr>\n",
       "    <tr>\n",
       "      <th>250</th>\n",
       "      <td>3888100043</td>\n",
       "      <td>20140507T000000</td>\n",
       "      <td>350000</td>\n",
       "      <td>3</td>\n",
       "      <td>1.00</td>\n",
       "      <td>1010.0</td>\n",
       "      <td>9360</td>\n",
       "      <td>1.0</td>\n",
       "      <td>0</td>\n",
       "      <td>0</td>\n",
       "      <td>3</td>\n",
       "      <td>6</td>\n",
       "      <td>NaN</td>\n",
       "      <td>0.0</td>\n",
       "      <td>1981</td>\n",
       "      <td>0</td>\n",
       "      <td>98033</td>\n",
       "      <td>47.6874</td>\n",
       "      <td>-122.168</td>\n",
       "    </tr>\n",
       "    <tr>\n",
       "      <th>326</th>\n",
       "      <td>8857600820</td>\n",
       "      <td>20140508T000000</td>\n",
       "      <td>260000</td>\n",
       "      <td>4</td>\n",
       "      <td>1.50</td>\n",
       "      <td>2130.0</td>\n",
       "      <td>8800</td>\n",
       "      <td>1.0</td>\n",
       "      <td>0</td>\n",
       "      <td>0</td>\n",
       "      <td>3</td>\n",
       "      <td>7</td>\n",
       "      <td>NaN</td>\n",
       "      <td>1030.0</td>\n",
       "      <td>1962</td>\n",
       "      <td>0</td>\n",
       "      <td>98032</td>\n",
       "      <td>47.3830</td>\n",
       "      <td>-122.288</td>\n",
       "    </tr>\n",
       "    <tr>\n",
       "      <th>338</th>\n",
       "      <td>923049378</td>\n",
       "      <td>20140508T000000</td>\n",
       "      <td>207000</td>\n",
       "      <td>3</td>\n",
       "      <td>1.00</td>\n",
       "      <td>1490.0</td>\n",
       "      <td>8995</td>\n",
       "      <td>1.0</td>\n",
       "      <td>0</td>\n",
       "      <td>0</td>\n",
       "      <td>4</td>\n",
       "      <td>7</td>\n",
       "      <td>NaN</td>\n",
       "      <td>0.0</td>\n",
       "      <td>1954</td>\n",
       "      <td>0</td>\n",
       "      <td>98168</td>\n",
       "      <td>47.4901</td>\n",
       "      <td>-122.303</td>\n",
       "    </tr>\n",
       "    <tr>\n",
       "      <th>393</th>\n",
       "      <td>5341600030</td>\n",
       "      <td>20140509T000000</td>\n",
       "      <td>255000</td>\n",
       "      <td>2</td>\n",
       "      <td>1.00</td>\n",
       "      <td>960.0</td>\n",
       "      <td>28717</td>\n",
       "      <td>1.0</td>\n",
       "      <td>0</td>\n",
       "      <td>0</td>\n",
       "      <td>4</td>\n",
       "      <td>6</td>\n",
       "      <td>NaN</td>\n",
       "      <td>0.0</td>\n",
       "      <td>1984</td>\n",
       "      <td>0</td>\n",
       "      <td>98070</td>\n",
       "      <td>47.3356</td>\n",
       "      <td>-122.502</td>\n",
       "    </tr>\n",
       "    <tr>\n",
       "      <th>434</th>\n",
       "      <td>1219000043</td>\n",
       "      <td>20140509T000000</td>\n",
       "      <td>315000</td>\n",
       "      <td>5</td>\n",
       "      <td>1.75</td>\n",
       "      <td>2320.0</td>\n",
       "      <td>8100</td>\n",
       "      <td>1.0</td>\n",
       "      <td>0</td>\n",
       "      <td>0</td>\n",
       "      <td>4</td>\n",
       "      <td>7</td>\n",
       "      <td>1160.0</td>\n",
       "      <td>NaN</td>\n",
       "      <td>1956</td>\n",
       "      <td>0</td>\n",
       "      <td>98166</td>\n",
       "      <td>47.4631</td>\n",
       "      <td>-122.341</td>\n",
       "    </tr>\n",
       "    <tr>\n",
       "      <th>483</th>\n",
       "      <td>2113700235</td>\n",
       "      <td>20140512T000000</td>\n",
       "      <td>360000</td>\n",
       "      <td>4</td>\n",
       "      <td>2.00</td>\n",
       "      <td>NaN</td>\n",
       "      <td>5500</td>\n",
       "      <td>1.0</td>\n",
       "      <td>0</td>\n",
       "      <td>0</td>\n",
       "      <td>5</td>\n",
       "      <td>7</td>\n",
       "      <td>1010.0</td>\n",
       "      <td>720.0</td>\n",
       "      <td>1943</td>\n",
       "      <td>0</td>\n",
       "      <td>98106</td>\n",
       "      <td>47.5304</td>\n",
       "      <td>-122.353</td>\n",
       "    </tr>\n",
       "    <tr>\n",
       "      <th>503</th>\n",
       "      <td>7203101610</td>\n",
       "      <td>20140512T000000</td>\n",
       "      <td>265000</td>\n",
       "      <td>2</td>\n",
       "      <td>1.00</td>\n",
       "      <td>1290.0</td>\n",
       "      <td>2828</td>\n",
       "      <td>2.0</td>\n",
       "      <td>0</td>\n",
       "      <td>0</td>\n",
       "      <td>3</td>\n",
       "      <td>7</td>\n",
       "      <td>1290.0</td>\n",
       "      <td>NaN</td>\n",
       "      <td>2008</td>\n",
       "      <td>0</td>\n",
       "      <td>98053</td>\n",
       "      <td>47.6968</td>\n",
       "      <td>-122.025</td>\n",
       "    </tr>\n",
       "    <tr>\n",
       "      <th>509</th>\n",
       "      <td>4375700065</td>\n",
       "      <td>20140512T000000</td>\n",
       "      <td>315275</td>\n",
       "      <td>3</td>\n",
       "      <td>1.75</td>\n",
       "      <td>1440.0</td>\n",
       "      <td>8040</td>\n",
       "      <td>1.0</td>\n",
       "      <td>0</td>\n",
       "      <td>0</td>\n",
       "      <td>3</td>\n",
       "      <td>7</td>\n",
       "      <td>NaN</td>\n",
       "      <td>480.0</td>\n",
       "      <td>1951</td>\n",
       "      <td>0</td>\n",
       "      <td>98125</td>\n",
       "      <td>47.7128</td>\n",
       "      <td>-122.306</td>\n",
       "    </tr>\n",
       "  </tbody>\n",
       "</table>\n",
       "</div>"
      ],
      "text/plain": [
       "             id             date   price  bedrooms  bathrooms  sqft_living  \\\n",
       "146  6666830250  20140505T000000  712198         4       2.50       2450.0   \n",
       "189  1223089050  20140506T000000  280000         3       1.75          NaN   \n",
       "250  3888100043  20140507T000000  350000         3       1.00       1010.0   \n",
       "326  8857600820  20140508T000000  260000         4       1.50       2130.0   \n",
       "338   923049378  20140508T000000  207000         3       1.00       1490.0   \n",
       "393  5341600030  20140509T000000  255000         2       1.00        960.0   \n",
       "434  1219000043  20140509T000000  315000         5       1.75       2320.0   \n",
       "483  2113700235  20140512T000000  360000         4       2.00          NaN   \n",
       "503  7203101610  20140512T000000  265000         2       1.00       1290.0   \n",
       "509  4375700065  20140512T000000  315275         3       1.75       1440.0   \n",
       "\n",
       "     sqft_lot  floors  waterfront  view  condition  grade  sqft_above  \\\n",
       "146      4247     2.0           0     0          3      8         NaN   \n",
       "189     11800     1.0           0     0          4      7      1630.0   \n",
       "250      9360     1.0           0     0          3      6         NaN   \n",
       "326      8800     1.0           0     0          3      7         NaN   \n",
       "338      8995     1.0           0     0          4      7         NaN   \n",
       "393     28717     1.0           0     0          4      6         NaN   \n",
       "434      8100     1.0           0     0          4      7      1160.0   \n",
       "483      5500     1.0           0     0          5      7      1010.0   \n",
       "503      2828     2.0           0     0          3      7      1290.0   \n",
       "509      8040     1.0           0     0          3      7         NaN   \n",
       "\n",
       "     sqft_basement  yr_built  yr_renovated  zipcode      lat     long  \n",
       "146            0.0      2013             0    98052  47.7048 -122.113  \n",
       "189            0.0      1971             0    98045  47.4863 -121.730  \n",
       "250            0.0      1981             0    98033  47.6874 -122.168  \n",
       "326         1030.0      1962             0    98032  47.3830 -122.288  \n",
       "338            0.0      1954             0    98168  47.4901 -122.303  \n",
       "393            0.0      1984             0    98070  47.3356 -122.502  \n",
       "434            NaN      1956             0    98166  47.4631 -122.341  \n",
       "483          720.0      1943             0    98106  47.5304 -122.353  \n",
       "503            NaN      2008             0    98053  47.6968 -122.025  \n",
       "509          480.0      1951             0    98125  47.7128 -122.306  "
      ]
     },
     "execution_count": 7,
     "metadata": {},
     "output_type": "execute_result"
    }
   ],
   "source": [
    "dataset3[dataset3['sqft_above'] + dataset3['sqft_basement'] != \\\n",
    "         dataset3['sqft_living']].head(10)"
   ]
  },
  {
   "cell_type": "markdown",
   "metadata": {},
   "source": [
    "There is only one missing value in this three columns per record. So based on the relationship, **sqft_living = sqft_above + sqft_basement**, we can use the known value to get the unknown value."
   ]
  },
  {
   "cell_type": "code",
   "execution_count": 8,
   "metadata": {},
   "outputs": [],
   "source": [
    "index = dataset3[dataset3.sqft_above.isnull()].index\n",
    "for i in index:\n",
    "    dataset3.at[i, 'sqft_above'] = dataset3.at[i, 'sqft_living'] - dataset3.at[i, 'sqft_basement']"
   ]
  },
  {
   "cell_type": "code",
   "execution_count": 9,
   "metadata": {},
   "outputs": [],
   "source": [
    "index = dataset3[dataset3.sqft_living.isnull()].index\n",
    "for i in index:\n",
    "    dataset3.at[i, 'sqft_living'] = dataset3.at[i, 'sqft_above'] + dataset3.at[i, 'sqft_basement']"
   ]
  },
  {
   "cell_type": "code",
   "execution_count": 10,
   "metadata": {},
   "outputs": [],
   "source": [
    "index = dataset3[dataset3.sqft_basement.isnull()].index\n",
    "for i in index:\n",
    "    dataset3.at[i, 'sqft_basement'] = dataset3.at[i, 'sqft_living'] - dataset3.at[i, 'sqft_above']"
   ]
  },
  {
   "cell_type": "markdown",
   "metadata": {},
   "source": [
    "check the result."
   ]
  },
  {
   "cell_type": "code",
   "execution_count": 11,
   "metadata": {},
   "outputs": [
    {
     "data": {
      "text/html": [
       "<div>\n",
       "<style scoped>\n",
       "    .dataframe tbody tr th:only-of-type {\n",
       "        vertical-align: middle;\n",
       "    }\n",
       "\n",
       "    .dataframe tbody tr th {\n",
       "        vertical-align: top;\n",
       "    }\n",
       "\n",
       "    .dataframe thead th {\n",
       "        text-align: right;\n",
       "    }\n",
       "</style>\n",
       "<table border=\"1\" class=\"dataframe\">\n",
       "  <thead>\n",
       "    <tr style=\"text-align: right;\">\n",
       "      <th></th>\n",
       "      <th>id</th>\n",
       "      <th>date</th>\n",
       "      <th>price</th>\n",
       "      <th>bedrooms</th>\n",
       "      <th>bathrooms</th>\n",
       "      <th>sqft_living</th>\n",
       "      <th>sqft_lot</th>\n",
       "      <th>floors</th>\n",
       "      <th>waterfront</th>\n",
       "      <th>view</th>\n",
       "      <th>condition</th>\n",
       "      <th>grade</th>\n",
       "      <th>sqft_above</th>\n",
       "      <th>sqft_basement</th>\n",
       "      <th>yr_built</th>\n",
       "      <th>yr_renovated</th>\n",
       "      <th>zipcode</th>\n",
       "      <th>lat</th>\n",
       "      <th>long</th>\n",
       "    </tr>\n",
       "  </thead>\n",
       "  <tbody>\n",
       "  </tbody>\n",
       "</table>\n",
       "</div>"
      ],
      "text/plain": [
       "Empty DataFrame\n",
       "Columns: [id, date, price, bedrooms, bathrooms, sqft_living, sqft_lot, floors, waterfront, view, condition, grade, sqft_above, sqft_basement, yr_built, yr_renovated, zipcode, lat, long]\n",
       "Index: []"
      ]
     },
     "execution_count": 11,
     "metadata": {},
     "output_type": "execute_result"
    }
   ],
   "source": [
    "dataset3[dataset3.sqft_living.isnull() | dataset3.sqft_above.isnull() \\\n",
    "         | dataset3.sqft_basement.isnull()]"
   ]
  },
  {
   "cell_type": "code",
   "execution_count": 12,
   "metadata": {},
   "outputs": [
    {
     "data": {
      "text/html": [
       "<div>\n",
       "<style scoped>\n",
       "    .dataframe tbody tr th:only-of-type {\n",
       "        vertical-align: middle;\n",
       "    }\n",
       "\n",
       "    .dataframe tbody tr th {\n",
       "        vertical-align: top;\n",
       "    }\n",
       "\n",
       "    .dataframe thead th {\n",
       "        text-align: right;\n",
       "    }\n",
       "</style>\n",
       "<table border=\"1\" class=\"dataframe\">\n",
       "  <thead>\n",
       "    <tr style=\"text-align: right;\">\n",
       "      <th></th>\n",
       "      <th>id</th>\n",
       "      <th>date</th>\n",
       "      <th>price</th>\n",
       "      <th>bedrooms</th>\n",
       "      <th>bathrooms</th>\n",
       "      <th>sqft_living</th>\n",
       "      <th>sqft_lot</th>\n",
       "      <th>floors</th>\n",
       "      <th>waterfront</th>\n",
       "      <th>view</th>\n",
       "      <th>condition</th>\n",
       "      <th>grade</th>\n",
       "      <th>sqft_above</th>\n",
       "      <th>sqft_basement</th>\n",
       "      <th>yr_built</th>\n",
       "      <th>yr_renovated</th>\n",
       "      <th>zipcode</th>\n",
       "      <th>lat</th>\n",
       "      <th>long</th>\n",
       "    </tr>\n",
       "  </thead>\n",
       "  <tbody>\n",
       "  </tbody>\n",
       "</table>\n",
       "</div>"
      ],
      "text/plain": [
       "Empty DataFrame\n",
       "Columns: [id, date, price, bedrooms, bathrooms, sqft_living, sqft_lot, floors, waterfront, view, condition, grade, sqft_above, sqft_basement, yr_built, yr_renovated, zipcode, lat, long]\n",
       "Index: []"
      ]
     },
     "execution_count": 12,
     "metadata": {},
     "output_type": "execute_result"
    }
   ],
   "source": [
    "dataset3[dataset3.sqft_above + dataset3.sqft_basement != dataset3.sqft_living]"
   ]
  },
  {
   "cell_type": "markdown",
   "metadata": {},
   "source": [
    "### 3.2 Fill in 'Bathroom' "
   ]
  },
  {
   "cell_type": "markdown",
   "metadata": {},
   "source": [
    "The mssing value of `bathrooms` is not that easy to get. In real life, it is tends to be that a house has more bedrooms may also has more bathrooms, while there are house which has one bathrooms and serval rooms. In our dataset, we are not able to get the missing 'bathrooms' according to any other attribute directly, but we can try to find the correlation between them and predict `batnroom` by taking use of all known data."
   ]
  },
  {
   "cell_type": "markdown",
   "metadata": {},
   "source": [
    "Create a new dataframe with all complete data."
   ]
  },
  {
   "cell_type": "code",
   "execution_count": 13,
   "metadata": {},
   "outputs": [],
   "source": [
    "#Create a copy of original dataframe\n",
    "dataset3_dropna = dataset3.copy()"
   ]
  },
  {
   "cell_type": "code",
   "execution_count": 14,
   "metadata": {},
   "outputs": [
    {
     "data": {
      "text/plain": [
       "(9967, 19)"
      ]
     },
     "execution_count": 14,
     "metadata": {},
     "output_type": "execute_result"
    }
   ],
   "source": [
    "dataset3_dropna.shape"
   ]
  },
  {
   "cell_type": "code",
   "execution_count": 15,
   "metadata": {},
   "outputs": [],
   "source": [
    "# Drop null values\n",
    "dataset3_dropna.dropna(subset=['bathrooms'],axis=0,inplace=True)"
   ]
  },
  {
   "cell_type": "code",
   "execution_count": 16,
   "metadata": {},
   "outputs": [
    {
     "data": {
      "text/html": [
       "<div>\n",
       "<style scoped>\n",
       "    .dataframe tbody tr th:only-of-type {\n",
       "        vertical-align: middle;\n",
       "    }\n",
       "\n",
       "    .dataframe tbody tr th {\n",
       "        vertical-align: top;\n",
       "    }\n",
       "\n",
       "    .dataframe thead th {\n",
       "        text-align: right;\n",
       "    }\n",
       "</style>\n",
       "<table border=\"1\" class=\"dataframe\">\n",
       "  <thead>\n",
       "    <tr style=\"text-align: right;\">\n",
       "      <th></th>\n",
       "      <th>id</th>\n",
       "      <th>date</th>\n",
       "      <th>price</th>\n",
       "      <th>bedrooms</th>\n",
       "      <th>bathrooms</th>\n",
       "      <th>sqft_living</th>\n",
       "      <th>sqft_lot</th>\n",
       "      <th>floors</th>\n",
       "      <th>waterfront</th>\n",
       "      <th>view</th>\n",
       "      <th>condition</th>\n",
       "      <th>grade</th>\n",
       "      <th>sqft_above</th>\n",
       "      <th>sqft_basement</th>\n",
       "      <th>yr_built</th>\n",
       "      <th>yr_renovated</th>\n",
       "      <th>zipcode</th>\n",
       "      <th>lat</th>\n",
       "      <th>long</th>\n",
       "    </tr>\n",
       "  </thead>\n",
       "  <tbody>\n",
       "    <tr>\n",
       "      <th>0</th>\n",
       "      <td>1999700045</td>\n",
       "      <td>20140502T000000</td>\n",
       "      <td>313000</td>\n",
       "      <td>3</td>\n",
       "      <td>1.50</td>\n",
       "      <td>1340.0</td>\n",
       "      <td>7912</td>\n",
       "      <td>1.5</td>\n",
       "      <td>0</td>\n",
       "      <td>0</td>\n",
       "      <td>3</td>\n",
       "      <td>7</td>\n",
       "      <td>1340.0</td>\n",
       "      <td>0.0</td>\n",
       "      <td>1955</td>\n",
       "      <td>0</td>\n",
       "      <td>98133</td>\n",
       "      <td>47.7658</td>\n",
       "      <td>-122.339</td>\n",
       "    </tr>\n",
       "    <tr>\n",
       "      <th>1</th>\n",
       "      <td>1860600135</td>\n",
       "      <td>20140502T000000</td>\n",
       "      <td>2384000</td>\n",
       "      <td>5</td>\n",
       "      <td>2.50</td>\n",
       "      <td>3650.0</td>\n",
       "      <td>9050</td>\n",
       "      <td>2.0</td>\n",
       "      <td>0</td>\n",
       "      <td>4</td>\n",
       "      <td>5</td>\n",
       "      <td>10</td>\n",
       "      <td>3370.0</td>\n",
       "      <td>280.0</td>\n",
       "      <td>1921</td>\n",
       "      <td>0</td>\n",
       "      <td>98119</td>\n",
       "      <td>47.6345</td>\n",
       "      <td>-122.367</td>\n",
       "    </tr>\n",
       "    <tr>\n",
       "      <th>2</th>\n",
       "      <td>5467900070</td>\n",
       "      <td>20140502T000000</td>\n",
       "      <td>342000</td>\n",
       "      <td>3</td>\n",
       "      <td>2.00</td>\n",
       "      <td>1930.0</td>\n",
       "      <td>11947</td>\n",
       "      <td>1.0</td>\n",
       "      <td>0</td>\n",
       "      <td>0</td>\n",
       "      <td>4</td>\n",
       "      <td>8</td>\n",
       "      <td>1930.0</td>\n",
       "      <td>0.0</td>\n",
       "      <td>1966</td>\n",
       "      <td>0</td>\n",
       "      <td>98042</td>\n",
       "      <td>47.3672</td>\n",
       "      <td>-122.151</td>\n",
       "    </tr>\n",
       "    <tr>\n",
       "      <th>3</th>\n",
       "      <td>4040800810</td>\n",
       "      <td>20140502T000000</td>\n",
       "      <td>420000</td>\n",
       "      <td>3</td>\n",
       "      <td>2.25</td>\n",
       "      <td>2000.0</td>\n",
       "      <td>8030</td>\n",
       "      <td>1.0</td>\n",
       "      <td>0</td>\n",
       "      <td>0</td>\n",
       "      <td>4</td>\n",
       "      <td>8</td>\n",
       "      <td>1000.0</td>\n",
       "      <td>1000.0</td>\n",
       "      <td>1963</td>\n",
       "      <td>0</td>\n",
       "      <td>98008</td>\n",
       "      <td>47.6188</td>\n",
       "      <td>-122.114</td>\n",
       "    </tr>\n",
       "    <tr>\n",
       "      <th>4</th>\n",
       "      <td>7197300105</td>\n",
       "      <td>20140502T000000</td>\n",
       "      <td>550000</td>\n",
       "      <td>4</td>\n",
       "      <td>2.50</td>\n",
       "      <td>1940.0</td>\n",
       "      <td>10500</td>\n",
       "      <td>1.0</td>\n",
       "      <td>0</td>\n",
       "      <td>0</td>\n",
       "      <td>4</td>\n",
       "      <td>7</td>\n",
       "      <td>1140.0</td>\n",
       "      <td>800.0</td>\n",
       "      <td>1976</td>\n",
       "      <td>0</td>\n",
       "      <td>98052</td>\n",
       "      <td>47.6830</td>\n",
       "      <td>-122.114</td>\n",
       "    </tr>\n",
       "  </tbody>\n",
       "</table>\n",
       "</div>"
      ],
      "text/plain": [
       "           id             date    price  bedrooms  bathrooms  sqft_living  \\\n",
       "0  1999700045  20140502T000000   313000         3       1.50       1340.0   \n",
       "1  1860600135  20140502T000000  2384000         5       2.50       3650.0   \n",
       "2  5467900070  20140502T000000   342000         3       2.00       1930.0   \n",
       "3  4040800810  20140502T000000   420000         3       2.25       2000.0   \n",
       "4  7197300105  20140502T000000   550000         4       2.50       1940.0   \n",
       "\n",
       "   sqft_lot  floors  waterfront  view  condition  grade  sqft_above  \\\n",
       "0      7912     1.5           0     0          3      7      1340.0   \n",
       "1      9050     2.0           0     4          5     10      3370.0   \n",
       "2     11947     1.0           0     0          4      8      1930.0   \n",
       "3      8030     1.0           0     0          4      8      1000.0   \n",
       "4     10500     1.0           0     0          4      7      1140.0   \n",
       "\n",
       "   sqft_basement  yr_built  yr_renovated  zipcode      lat     long  \n",
       "0            0.0      1955             0    98133  47.7658 -122.339  \n",
       "1          280.0      1921             0    98119  47.6345 -122.367  \n",
       "2            0.0      1966             0    98042  47.3672 -122.151  \n",
       "3         1000.0      1963             0    98008  47.6188 -122.114  \n",
       "4          800.0      1976             0    98052  47.6830 -122.114  "
      ]
     },
     "execution_count": 16,
     "metadata": {},
     "output_type": "execute_result"
    }
   ],
   "source": [
    "dataset3_dropna.head()"
   ]
  },
  {
   "cell_type": "code",
   "execution_count": 17,
   "metadata": {},
   "outputs": [
    {
     "data": {
      "text/plain": [
       "(9567, 19)"
      ]
     },
     "execution_count": 17,
     "metadata": {},
     "output_type": "execute_result"
    }
   ],
   "source": [
    "dataset3_dropna.shape"
   ]
  },
  {
   "cell_type": "code",
   "execution_count": 18,
   "metadata": {},
   "outputs": [
    {
     "data": {
      "text/plain": [
       "0"
      ]
     },
     "execution_count": 18,
     "metadata": {},
     "output_type": "execute_result"
    }
   ],
   "source": [
    "dataset3_dropna['bathrooms'].isnull().sum()"
   ]
  },
  {
   "cell_type": "markdown",
   "metadata": {},
   "source": [
    "Next step, we need to select features. This step is necessary since *it can shorter training times and reducing overfitting and variance(from Wikipedia).*"
   ]
  },
  {
   "cell_type": "markdown",
   "metadata": {},
   "source": [
    "Although there are 18 attributes except for `bathrooms`, not all of them actually has relationship with bathrooms, we can exclude them by using our common sense. Here, I exclude `id`, `date`, `zipcode`,`lat` and `long`."
   ]
  },
  {
   "cell_type": "code",
   "execution_count": 19,
   "metadata": {},
   "outputs": [
    {
     "data": {
      "text/html": [
       "<div>\n",
       "<style scoped>\n",
       "    .dataframe tbody tr th:only-of-type {\n",
       "        vertical-align: middle;\n",
       "    }\n",
       "\n",
       "    .dataframe tbody tr th {\n",
       "        vertical-align: top;\n",
       "    }\n",
       "\n",
       "    .dataframe thead th {\n",
       "        text-align: right;\n",
       "    }\n",
       "</style>\n",
       "<table border=\"1\" class=\"dataframe\">\n",
       "  <thead>\n",
       "    <tr style=\"text-align: right;\">\n",
       "      <th></th>\n",
       "      <th>price</th>\n",
       "      <th>bedrooms</th>\n",
       "      <th>bathrooms</th>\n",
       "      <th>sqft_living</th>\n",
       "      <th>sqft_lot</th>\n",
       "      <th>waterfront</th>\n",
       "      <th>floors</th>\n",
       "      <th>view</th>\n",
       "      <th>condition</th>\n",
       "      <th>grade</th>\n",
       "      <th>sqft_above</th>\n",
       "      <th>sqft_basement</th>\n",
       "      <th>yr_built</th>\n",
       "      <th>yr_renovated</th>\n",
       "    </tr>\n",
       "  </thead>\n",
       "  <tbody>\n",
       "    <tr>\n",
       "      <th>0</th>\n",
       "      <td>313000</td>\n",
       "      <td>3</td>\n",
       "      <td>1.50</td>\n",
       "      <td>1340.0</td>\n",
       "      <td>7912</td>\n",
       "      <td>0</td>\n",
       "      <td>1.5</td>\n",
       "      <td>0</td>\n",
       "      <td>3</td>\n",
       "      <td>7</td>\n",
       "      <td>1340.0</td>\n",
       "      <td>0.0</td>\n",
       "      <td>1955</td>\n",
       "      <td>0</td>\n",
       "    </tr>\n",
       "    <tr>\n",
       "      <th>1</th>\n",
       "      <td>2384000</td>\n",
       "      <td>5</td>\n",
       "      <td>2.50</td>\n",
       "      <td>3650.0</td>\n",
       "      <td>9050</td>\n",
       "      <td>0</td>\n",
       "      <td>2.0</td>\n",
       "      <td>4</td>\n",
       "      <td>5</td>\n",
       "      <td>10</td>\n",
       "      <td>3370.0</td>\n",
       "      <td>280.0</td>\n",
       "      <td>1921</td>\n",
       "      <td>0</td>\n",
       "    </tr>\n",
       "    <tr>\n",
       "      <th>2</th>\n",
       "      <td>342000</td>\n",
       "      <td>3</td>\n",
       "      <td>2.00</td>\n",
       "      <td>1930.0</td>\n",
       "      <td>11947</td>\n",
       "      <td>0</td>\n",
       "      <td>1.0</td>\n",
       "      <td>0</td>\n",
       "      <td>4</td>\n",
       "      <td>8</td>\n",
       "      <td>1930.0</td>\n",
       "      <td>0.0</td>\n",
       "      <td>1966</td>\n",
       "      <td>0</td>\n",
       "    </tr>\n",
       "    <tr>\n",
       "      <th>3</th>\n",
       "      <td>420000</td>\n",
       "      <td>3</td>\n",
       "      <td>2.25</td>\n",
       "      <td>2000.0</td>\n",
       "      <td>8030</td>\n",
       "      <td>0</td>\n",
       "      <td>1.0</td>\n",
       "      <td>0</td>\n",
       "      <td>4</td>\n",
       "      <td>8</td>\n",
       "      <td>1000.0</td>\n",
       "      <td>1000.0</td>\n",
       "      <td>1963</td>\n",
       "      <td>0</td>\n",
       "    </tr>\n",
       "    <tr>\n",
       "      <th>4</th>\n",
       "      <td>550000</td>\n",
       "      <td>4</td>\n",
       "      <td>2.50</td>\n",
       "      <td>1940.0</td>\n",
       "      <td>10500</td>\n",
       "      <td>0</td>\n",
       "      <td>1.0</td>\n",
       "      <td>0</td>\n",
       "      <td>4</td>\n",
       "      <td>7</td>\n",
       "      <td>1140.0</td>\n",
       "      <td>800.0</td>\n",
       "      <td>1976</td>\n",
       "      <td>0</td>\n",
       "    </tr>\n",
       "  </tbody>\n",
       "</table>\n",
       "</div>"
      ],
      "text/plain": [
       "     price  bedrooms  bathrooms  sqft_living  sqft_lot  waterfront  floors  \\\n",
       "0   313000         3       1.50       1340.0      7912           0     1.5   \n",
       "1  2384000         5       2.50       3650.0      9050           0     2.0   \n",
       "2   342000         3       2.00       1930.0     11947           0     1.0   \n",
       "3   420000         3       2.25       2000.0      8030           0     1.0   \n",
       "4   550000         4       2.50       1940.0     10500           0     1.0   \n",
       "\n",
       "   view  condition  grade  sqft_above  sqft_basement  yr_built  yr_renovated  \n",
       "0     0          3      7      1340.0            0.0      1955             0  \n",
       "1     4          5     10      3370.0          280.0      1921             0  \n",
       "2     0          4      8      1930.0            0.0      1966             0  \n",
       "3     0          4      8      1000.0         1000.0      1963             0  \n",
       "4     0          4      7      1140.0          800.0      1976             0  "
      ]
     },
     "execution_count": 19,
     "metadata": {},
     "output_type": "execute_result"
    }
   ],
   "source": [
    "data = ['price','bedrooms','bathrooms','sqft_living','sqft_lot','waterfront','floors','view','condition','grade','sqft_above',\n",
    "            'sqft_basement','yr_built','yr_renovated']\n",
    "data = dataset3_dropna[data]\n",
    "data.head()"
   ]
  },
  {
   "cell_type": "markdown",
   "metadata": {},
   "source": [
    "We can use `pandas.DataFrame.corr()` function to get the correlation between `bathrooms` and other attributes."
   ]
  },
  {
   "cell_type": "code",
   "execution_count": 37,
   "metadata": {},
   "outputs": [
    {
     "data": {
      "image/png": "[encoded data removed]",
      "text/plain": [
       "<Figure size 1440x1080 with 2 Axes>"
      ]
     },
     "metadata": {},
     "output_type": "display_data"
    }
   ],
   "source": [
    "# Find correlationship among data\n",
    "plt.subplots(figsize=(20,15))\n",
    "corrmat = data.corr()\n",
    "#number of variables for heatmap\n",
    "k = 14 \n",
    "# Get the rows of a DataFrame sorted by the n largest values of columns.\n",
    "cols = corrmat.nlargest(k, 'bathrooms')['bathrooms'].index\n",
    "cm = np.corrcoef(data[cols].values.T)\n",
    "sns.set(font_scale=1.5)\n",
    "hm = sns.heatmap(cm, cbar=True, annot=True, square=True, fmt='.2f', annot_kws={'size': 10}, \n",
    "yticklabels=cols.values, xticklabels=cols.values)\n",
    "plt.show()\n"
   ]
  },
  {
   "cell_type": "markdown",
   "metadata": {},
   "source": [
    "We can see that attributes which have strong relationship with `bathroom` are `sqft_living`,`sqft_above`,`grade`,`price`,`floors`,`yr_built`, and `bedrooms` (coefficient > 0.5)."
   ]
  },
  {
   "cell_type": "code",
   "execution_count": 22,
   "metadata": {},
   "outputs": [],
   "source": [
    "feature = ['sqft_living','sqft_above','grade','price','floors','yr_built','bedrooms']\n",
    "features = dataset3_dropna[feature]"
   ]
  },
  {
   "cell_type": "code",
   "execution_count": 23,
   "metadata": {},
   "outputs": [],
   "source": [
    "bathrooms = dataset3_dropna['bathrooms']"
   ]
  },
  {
   "cell_type": "markdown",
   "metadata": {},
   "source": [
    "** Shuffle and Splite data into test and training datasets**\n",
    "* Use `train_test_split` to shuffle and split the `features` and `bathroom` data into training and testing sets.\n",
    "  * Split the data into 80% train data and 20% test data.\n",
    "  * Set the `random_state` for `train_test_split` to 42 to ensures results are consistent.\n",
    "  * Assign the train and test splits to `X_train`, `X_test`, `y_train`, and `y_test`."
   ]
  },
  {
   "cell_type": "code",
   "execution_count": 24,
   "metadata": {},
   "outputs": [],
   "source": [
    "# Split dataset for training and testing\n",
    "X_train, X_test, y_train, y_test = \\\n",
    "    train_test_split(features,bathrooms,test_size=0.20, random_state=42)"
   ]
  },
  {
   "cell_type": "markdown",
   "metadata": {},
   "source": [
    "I decide to use `Random forests` model because it perform better than `Decision Tree` Model and `Linear Regression` Model in avoiding overfitting to their training set."
   ]
  },
  {
   "cell_type": "code",
   "execution_count": 25,
   "metadata": {},
   "outputs": [],
   "source": [
    "# def R2_score(y, y_pred):\n",
    "#     score = r2_score(y, y_pred)\n",
    "#     return score"
   ]
  },
  {
   "cell_type": "code",
   "execution_count": 26,
   "metadata": {},
   "outputs": [],
   "source": [
    "# round the predicted value to .25, .5, .75. 0\n",
    "def getQuarter(value, i):\n",
    "    return (round(value * i) / i)"
   ]
  },
  {
   "cell_type": "code",
   "execution_count": 35,
   "metadata": {},
   "outputs": [
    {
     "name": "stdout",
     "output_type": "stream",
     "text": [
      "0.792036775979\n",
      "0.782972613698\n"
     ]
    }
   ],
   "source": [
    "# Create a random forest regressor model\n",
    "# max_depth: The maximum depth of the tree. If None, then nodes are expanded until all leaves are pure \n",
    "# or until all leaves contain less than min_samples_split samples.\n",
    "# min_samples_leaf: The minimum number of samples required to be at a leaf node\n",
    "# Random forest builds multiple decision trees and merges them together to get a more accurate and stable prediction.\n",
    "\n",
    "\n",
    "If int, then consider min_samples_leaf as the minimum number.\n",
    "rf = RandomForestRegressor(max_depth=7,min_samples_leaf=7,random_state=0)    \n",
    "rf.fit(X_train,y_train)\n",
    "print(rf.score(X_test,y_test))\n",
    "y_pred = rf.predict(X_test)\n",
    "for i in range(len(y_pred)):\n",
    "    y_pred[i] = getQuarter(y_pred[i], 4)\n",
    "print(r2_score(y_test, y_pred))"
   ]
  },
  {
   "cell_type": "markdown",
   "metadata": {},
   "source": [
    "We can get 0.79 R-squared score of model and 0.78 R-squared score the actual value and the predicted value, which proves that this model perform well enough in predicting `bathrooms` value."
   ]
  },
  {
   "cell_type": "markdown",
   "metadata": {},
   "source": [
    "Then, we can use predicted value to fill in the missing `bathroom` value."
   ]
  },
  {
   "cell_type": "code",
   "execution_count": 28,
   "metadata": {},
   "outputs": [],
   "source": [
    "dataset3_nan_bath = dataset3[dataset3.bathrooms.isnull()]"
   ]
  },
  {
   "cell_type": "code",
   "execution_count": 29,
   "metadata": {},
   "outputs": [],
   "source": [
    "# Predict missing values\n",
    "predict_result = rf.predict(dataset3_nan_bath[feature])\n",
    "quarter_predict = []\n",
    "for i in predict_result:\n",
    "    quarter_predict.append(getQuarter(i, 4))"
   ]
  },
  {
   "cell_type": "code",
   "execution_count": 30,
   "metadata": {},
   "outputs": [
    {
     "data": {
      "text/plain": [
       "[2.25, 2.25, 1.0, 2.5, 2.75]"
      ]
     },
     "execution_count": 30,
     "metadata": {},
     "output_type": "execute_result"
    }
   ],
   "source": [
    "quarter_predict[:5]"
   ]
  },
  {
   "cell_type": "code",
   "execution_count": 31,
   "metadata": {},
   "outputs": [],
   "source": [
    "# Fill null values\n",
    "for i, value in enumerate(quarter_predict):\n",
    "    dataset3.at[dataset3_nan_bath.index[i], 'bathrooms'] = value"
   ]
  },
  {
   "cell_type": "markdown",
   "metadata": {},
   "source": [
    "Check if there is any missing value now."
   ]
  },
  {
   "cell_type": "code",
   "execution_count": 32,
   "metadata": {},
   "outputs": [
    {
     "data": {
      "text/html": [
       "<div>\n",
       "<style scoped>\n",
       "    .dataframe tbody tr th:only-of-type {\n",
       "        vertical-align: middle;\n",
       "    }\n",
       "\n",
       "    .dataframe tbody tr th {\n",
       "        vertical-align: top;\n",
       "    }\n",
       "\n",
       "    .dataframe thead th {\n",
       "        text-align: right;\n",
       "    }\n",
       "</style>\n",
       "<table border=\"1\" class=\"dataframe\">\n",
       "  <thead>\n",
       "    <tr style=\"text-align: right;\">\n",
       "      <th></th>\n",
       "      <th>id</th>\n",
       "      <th>date</th>\n",
       "      <th>price</th>\n",
       "      <th>bedrooms</th>\n",
       "      <th>bathrooms</th>\n",
       "      <th>sqft_living</th>\n",
       "      <th>sqft_lot</th>\n",
       "      <th>floors</th>\n",
       "      <th>waterfront</th>\n",
       "      <th>view</th>\n",
       "      <th>condition</th>\n",
       "      <th>grade</th>\n",
       "      <th>sqft_above</th>\n",
       "      <th>sqft_basement</th>\n",
       "      <th>yr_built</th>\n",
       "      <th>yr_renovated</th>\n",
       "      <th>zipcode</th>\n",
       "      <th>lat</th>\n",
       "      <th>long</th>\n",
       "    </tr>\n",
       "  </thead>\n",
       "  <tbody>\n",
       "  </tbody>\n",
       "</table>\n",
       "</div>"
      ],
      "text/plain": [
       "Empty DataFrame\n",
       "Columns: [id, date, price, bedrooms, bathrooms, sqft_living, sqft_lot, floors, waterfront, view, condition, grade, sqft_above, sqft_basement, yr_built, yr_renovated, zipcode, lat, long]\n",
       "Index: []"
      ]
     },
     "execution_count": 32,
     "metadata": {},
     "output_type": "execute_result"
    }
   ],
   "source": [
    "dataset3[dataset3.isnull().any(axis=1)]"
   ]
  },
  {
   "cell_type": "markdown",
   "metadata": {},
   "source": [
    "### 4. Save the dataset into CSV file"
   ]
  },
  {
   "cell_type": "code",
   "execution_count": 33,
   "metadata": {},
   "outputs": [],
   "source": [
    "dataset3.to_csv('dataset3_solution.csv', encoding = 'utf-8', index = False)"
   ]
  },
  {
   "cell_type": "markdown",
   "metadata": {},
   "source": [
    "### 5. Reference"
   ]
  },
  {
   "cell_type": "markdown",
   "metadata": {},
   "source": [
    "- Random Forest. Retrieved from: https://en.wikipedia.org/wiki/Random_forest\n",
    "- sklearn. Retrieved from: http://scikit-learn.org/\n",
    "- seaborn. Retrieved from: https://seaborn.pydata.org/\n",
    "- matplotlib. Retrieved from: https://matplotlib.org/"
   ]
  }
 ],
 "metadata": {
  "kernelspec": {
   "display_name": "Python 3",
   "language": "python",
   "name": "python3"
  },
  "language_info": {
   "codemirror_mode": {
    "name": "ipython",
    "version": 3
   },
   "file_extension": ".py",
   "mimetype": "text/x-python",
   "name": "python",
   "nbconvert_exporter": "python",
   "pygments_lexer": "ipython3",
   "version": "3.6.5"
  }
 },
 "nbformat": 4,
 "nbformat_minor": 2
}
