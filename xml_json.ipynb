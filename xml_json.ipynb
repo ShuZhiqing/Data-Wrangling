{
 "cells": [
  {
   "cell_type": "markdown",
   "metadata": {},
   "source": [
    "## FIT5196 Task 3 in Assessment 1\n",
    "\n",
    "### Student Name: Zhiqing Shu\n",
    "### Student ID: 28217551\n",
    "\n",
    "#### Date: 04/04/2018\n",
    "\n",
    "Version: 3.0\n",
    "\n",
    "Environment: Python 3.6.4 and Anaconda 5.1.0 (64-bit)\n",
    "\n",
    "Libraries used: \n",
    "* json (for json, included in Anaconda Python 3.6) \n",
    "* re (for regular expression, included in Anaconda Python 3.6) \n",
    "* html (for html, included in Anaconda Python 3.6) "
   ]
  },
  {
   "cell_type": "markdown",
   "metadata": {},
   "source": [
    "## 1. Summary"
   ]
  },
  {
   "cell_type": "markdown",
   "metadata": {},
   "source": [
    "This task focuses on converting the Austrailian Sport Thesaurus stored in an XML file (\"australian-sport-thesaurus- student.xml\") into a JSON file. The JSON file should look like the given figure.\n",
    "\n",
    "The detailed requirements of this task is as the following:\n",
    "- must correctly extract the thesaurus in the XML file and store it in the JSON file;\n",
    "- while extracting the thesaurus from the XML file, **existing Python Packages that are written to parse XML files (e.g., Beautiful- soup, lxml and ElementTree) must not be used.** You must write your own Python script to extract the thesaurus. **Hint: Regular Expressions can be used**.\n",
    "- Python packages, **like json**, can be used to save the extracted thesaurus;\n",
    "- script must be written in a Jupyter notebook named as **\"xml_json.ipynb\"**;\n",
    "- the JSON data should be saved in a file named as **\"sport.dat\"**; \n",
    "- the input file must only be **\"australian-sport-thesaurus-student.xml\"**."
   ]
  },
  {
   "cell_type": "markdown",
   "metadata": {},
   "source": [
    "## 2. Import libraries"
   ]
  },
  {
   "cell_type": "code",
   "execution_count": null,
   "metadata": {},
   "outputs": [],
   "source": [
    "import html\n",
    "import re\n",
    "import json"
   ]
  },
  {
   "cell_type": "markdown",
   "metadata": {},
   "source": [
    "## 3. Parse XML File"
   ]
  },
  {
   "cell_type": "markdown",
   "metadata": {},
   "source": [
    "According to the task requirements, we can not use any existing Python Packages to parse XML files and the only tool we can use is Regular Expressions. \n",
    "\n",
    "As we may all know, Regular Expressions work on string, so the first step is to extract complete data from the original XML file and load them as string.\n",
    "\n",
    "By looking at the XML file, we can find there is many space before tags and they are unnecessarily remained in the string we will work on, so we can use `file.readlines()` [function](https://docs.python.org/3/tutorial/inputoutput.html) remove them at this step."
   ]
  },
  {
   "cell_type": "code",
   "execution_count": null,
   "metadata": {},
   "outputs": [],
   "source": [
    "file = open('australian-sport-thesaurus-student.xml')\n",
    "lines = file.readlines() # read each line in xml file\n",
    "data = '' # create an empty string\n",
    "for i in lines:  # i is string\n",
    "    data += i.strip() # remove space before tags and add processed string to data\n",
    "data"
   ]
  },
  {
   "cell_type": "markdown",
   "metadata": {},
   "source": [
    "XML has its own special characters, which may confuse reader and it is better to convert them into readable characters.\n",
    "\n",
    "Check if there is any special character."
   ]
  },
  {
   "cell_type": "code",
   "execution_count": null,
   "metadata": {},
   "outputs": [],
   "source": [
    "print('&amp' in data) # &\n",
    "print('&lt' in data) # <\n",
    "print('&gt' in data) # >\n",
    "print('&quot' in data) # \"\n",
    "print('&apos' in data) # '\n",
    "print('&#13' in data) # Carriage return"
   ]
  },
  {
   "cell_type": "markdown",
   "metadata": {},
   "source": [
    "We can use `html.unescape()` [function](https://docs.python.org/3/library/html.html) to convert all special characters in the string to the corresponding unicode characters. Then, check the result."
   ]
  },
  {
   "cell_type": "code",
   "execution_count": null,
   "metadata": {},
   "outputs": [],
   "source": [
    "data = html.unescape(data)"
   ]
  },
  {
   "cell_type": "code",
   "execution_count": null,
   "metadata": {},
   "outputs": [],
   "source": [
    "print('&amp' in data)\n",
    "print('&lt' in data)\n",
    "print('&gt' in data)\n",
    "print('&#13' in data)"
   ]
  },
  {
   "cell_type": "markdown",
   "metadata": {},
   "source": [
    "There are also some special characters related to format such as lindfeed and newline which are likely to exist in our data. We need to check them."
   ]
  },
  {
   "cell_type": "code",
   "execution_count": null,
   "metadata": {},
   "outputs": [],
   "source": [
    "print('\\r' in data) # carriage return\n",
    "print('\\t' in data) # tab\n",
    "print('\\n' in data) # new line"
   ]
  },
  {
   "cell_type": "markdown",
   "metadata": {},
   "source": [
    "Replace them with more reasonable characters."
   ]
  },
  {
   "cell_type": "code",
   "execution_count": null,
   "metadata": {},
   "outputs": [],
   "source": [
    "data = data.replace('\\r',' ')\n",
    "data = data.replace('\\t',' ')"
   ]
  },
  {
   "cell_type": "code",
   "execution_count": null,
   "metadata": {},
   "outputs": [],
   "source": [
    "print('\\r' in data)\n",
    "print('\\t' in data)"
   ]
  },
  {
   "cell_type": "markdown",
   "metadata": {},
   "source": [
    "View the cleaned data."
   ]
  },
  {
   "cell_type": "code",
   "execution_count": null,
   "metadata": {},
   "outputs": [],
   "source": [
    "data[0:1000]"
   ]
  },
  {
   "cell_type": "markdown",
   "metadata": {},
   "source": [
    "After doing the basic data cleaning, we can try to parse the XML file.\n",
    "\n",
    "The structure of the original XML: \n",
    "```XML\n",
    "<Terms>\n",
    "    <Term>\n",
    "        <Title>??????</Title>\n",
    "        <Description>??????</Description>\n",
    "        <RelatedTerms>\n",
    "            <Term>\n",
    "               <Title>??????</Title>\n",
    "               <Relationship>??????</Relationship>\n",
    "            </Term>\n",
    "            ......\n",
    "        </RelatedTerms>\n",
    "    </Term>\n",
    "    ......\n",
    "</Terms>\n",
    "```\n",
    "\n",
    "XML files are formed as element trees. `Terms` is the root element, `Term` is the child element, `Title`, `Description` and `RelatedTerms` are subchild element. `RelatedTerms` has its own child element `Terms`, while `Terms` also have its child element `Title` and `Relationship`.\n",
    "\n",
    "According to the sample figure showing what the JSON file should look like, we can get the basic structure of the JSON file (Here, I use space and new line to clarify the structure):\n",
    "```JSON\n",
    "{\"thesaurus\":[\n",
    " {\"Description\": \"......\",  \n",
    "  \"RealtedTerms\": \n",
    "   [{\"Relartionship\": \"......\", \n",
    "     \"Title\": \"......\"},\n",
    "    ......],\n",
    "  \"Title\":\"......\"}\n",
    "  ......\n",
    " ]}\n",
    "```\n",
    "\n",
    "So, it will be easy to understand the data type of each element in python:\n",
    "- `Title` and `Relationship` are the keys of the innermost level dictionary; there can be one dictionary or several dictionaries, and a list is used to store it/them. \n",
    "  In the XML file:\n",
    "  ```XML\n",
    "    <Term>\n",
    "        <Title>??????</Title>\n",
    "        <Relationship>??????</Relationship>\n",
    "    </Term> \n",
    "```\n",
    "- This list is stored as the value of key `RealtedTerms` in a dictionary. This dictionary has another two key-value pairs and the keys are `Description` and `Title`. \n",
    "  In the XML file:\n",
    "  ```XML\n",
    "    <Term>\n",
    "        <Title>??????</Title>\n",
    "        <Description>??????</Description>\n",
    "        <RelatedTerms>\n",
    "            <Term>\n",
    "               <Title>??????</Title>\n",
    "               <Relationship>??????</Relationship>\n",
    "            </Term>\n",
    "            ......\n",
    "        </RelatedTerms>\n",
    "    </Term>\n",
    "  ```\n",
    "- This outer dictionary is stored in a list and this list will be stored in a dictionary as the value of key `thesaurus`.\n",
    "  In the XML file:\n",
    "  ```XML\n",
    "    <Terms>\n",
    "        <Term>\n",
    "            <Title>??????</Title>\n",
    "            <Description>??????</Description>\n",
    "            <RelatedTerms>\n",
    "                <Term>\n",
    "                   <Title>??????</Title>\n",
    "                   <Relationship>??????</Relationship>\n",
    "                </Term>\n",
    "                ......\n",
    "            </RelatedTerms>\n",
    "        </Term>\n",
    "        ......\n",
    "    </Terms>\n",
    "  ```"
   ]
  },
  {
   "cell_type": "markdown",
   "metadata": {},
   "source": [
    "Retrieving the data needed from the outside in.\n",
    "\n",
    "Using `re.findall()` [function](https://docs.python.org/3/library/re.html) to match data because it return all non-overlapping matches of pattern in string, as a list of strings, so extract each string will be easy.\n",
    "\n",
    "First, matching all key-value pairs except the one with key of `RelatedTerms`."
   ]
  },
  {
   "cell_type": "code",
   "execution_count": null,
   "metadata": {},
   "outputs": [],
   "source": [
    "values = re.findall('<Term>(.*?)(?:<RelatedTerms>(.*?)</RelatedTerms>)*</Term>', data)\n",
    "values[:5]"
   ]
  },
  {
   "cell_type": "markdown",
   "metadata": {},
   "source": [
    "Getting the length of the returned list by `re.findall()`."
   ]
  },
  {
   "cell_type": "code",
   "execution_count": null,
   "metadata": {},
   "outputs": [],
   "source": [
    "len(values)"
   ]
  },
  {
   "cell_type": "code",
   "execution_count": null,
   "metadata": {},
   "outputs": [],
   "source": [
    "len(values[0])"
   ]
  },
  {
   "cell_type": "markdown",
   "metadata": {},
   "source": [
    "'( )' in the returned list is tuple and each tuple within the list stores two strings.\n",
    "\n",
    "The first string contains two key-value pairs (key: `Description` and `Title`) of the middle dictionary which has three key-value pairs.\n",
    "\n",
    "The second string contains the key-value pairs of the innermost level dictionary and these pairs can be extracted by the regular expression `<Term><(.*?)>(.*?)</.*?><(.*?)>(.*?)</.*?></Term>`, which will return all keys and values pairly as string in tuple and this tuple will be stored in a list, and since we use `re.findall()` which returns matches and doesn't return after first match. "
   ]
  },
  {
   "cell_type": "code",
   "execution_count": null,
   "metadata": {},
   "outputs": [],
   "source": [
    "inner_match = re.findall('<Term><(.*?)>(.*?)</.*?><(.*?)>(.*?)</.*?></Term>',values[1][1])"
   ]
  },
  {
   "cell_type": "code",
   "execution_count": null,
   "metadata": {},
   "outputs": [],
   "source": [
    "print(inner_match)"
   ]
  },
  {
   "cell_type": "code",
   "execution_count": null,
   "metadata": {},
   "outputs": [],
   "source": [
    "print(inner_match[0][0:2])\n",
    "print(inner_match[0][2:4])"
   ]
  },
  {
   "cell_type": "markdown",
   "metadata": {},
   "source": [
    "Since `Title` and `Relationship` are the keys of the innermost level dictionary, in order to convert the original tuple to dictionary, it should be modified as [following](https://docs.python.org/3.6/tutorial/datastructures.html):"
   ]
  },
  {
   "cell_type": "code",
   "execution_count": null,
   "metadata": {},
   "outputs": [],
   "source": [
    "inner = [inner_match[0][0:2],inner_match[0][2:4]]"
   ]
  },
  {
   "cell_type": "code",
   "execution_count": null,
   "metadata": {},
   "outputs": [],
   "source": [
    "inner"
   ]
  },
  {
   "cell_type": "markdown",
   "metadata": {},
   "source": [
    "Converting to dictionary."
   ]
  },
  {
   "cell_type": "code",
   "execution_count": null,
   "metadata": {},
   "outputs": [],
   "source": [
    "inner = dict(inner)\n",
    "inner"
   ]
  },
  {
   "cell_type": "markdown",
   "metadata": {},
   "source": [
    "After figuring out the logic, the original string `data` can be convert to the desired data type."
   ]
  },
  {
   "cell_type": "code",
   "execution_count": null,
   "metadata": {},
   "outputs": [],
   "source": [
    "regex_1 = r\"<Term>(.*?)(?:<RelatedTerms>(.*?)</RelatedTerms>)*</Term>\" # Description and Title, Title and Relationship\n",
    "regex_2 = r\"<(.*?)>(.*?)</.*?>\" # Description and Title\n",
    "regex_3 = r\"<Term><(.*?)>(.*?)</.*?><(.*?)>(.*?)</.*?></Term>\" # Title and Relationship\n",
    "result = []\n",
    "content = re.findall(regex_1, data)\n",
    "for i in content:\n",
    "    middle = re.findall(regex_2, i[0])\n",
    "    middle_dict = dict(middle)\n",
    "    inner = re.findall(regex_3, i[1])\n",
    "    inner_list = []\n",
    "    for x in inner: # there may be several matches\n",
    "        tuple1 = x[0:2]\n",
    "        tuple2 = x[2:4]\n",
    "        inner_match = [tuple1,tuple2] # tuple store in list\n",
    "        inner_dict = dict(inner_match) # list to dict\n",
    "        inner_list.append(inner_dict) \n",
    "    middle_dict['RelatedTerms'] = inner_list \n",
    "    result.append(middle_dict)"
   ]
  },
  {
   "cell_type": "markdown",
   "metadata": {},
   "source": [
    "Check the result."
   ]
  },
  {
   "cell_type": "code",
   "execution_count": null,
   "metadata": {},
   "outputs": [],
   "source": [
    "result[0:50]"
   ]
  },
  {
   "cell_type": "markdown",
   "metadata": {},
   "source": [
    "It seems look correct, double check the length of the result to make sure."
   ]
  },
  {
   "cell_type": "code",
   "execution_count": null,
   "metadata": {},
   "outputs": [],
   "source": [
    "len(result)"
   ]
  },
  {
   "cell_type": "markdown",
   "metadata": {},
   "source": [
    "Creating a dictionary with key named \"thesaurus\" to store the result as the paired value. "
   ]
  },
  {
   "cell_type": "code",
   "execution_count": null,
   "metadata": {},
   "outputs": [],
   "source": [
    "thesaurus = {}\n",
    "thesaurus[\"thesaurus\"] = result"
   ]
  },
  {
   "cell_type": "markdown",
   "metadata": {},
   "source": [
    "Using `json.dumps()` [function](https://docs.python.org/3.6/library/json.html?highlight=json#module-json) to convert Python dictionary to JSON, and setting `sort_keys = True` to meet the requirement of sample figure."
   ]
  },
  {
   "cell_type": "code",
   "execution_count": null,
   "metadata": {},
   "outputs": [],
   "source": [
    "sport = json.dumps(thesaurus, sort_keys = True) #return str\n",
    "with open(\"sport.dat\",\"w\") as file:\n",
    "  file.write(sport)"
   ]
  },
  {
   "cell_type": "code",
   "execution_count": null,
   "metadata": {},
   "outputs": [],
   "source": [
    "#type(sport)"
   ]
  },
  {
   "cell_type": "markdown",
   "metadata": {},
   "source": [
    "Loading the exported file `sport.dat` to check if the result has been written to JSON file properly."
   ]
  },
  {
   "cell_type": "code",
   "execution_count": null,
   "metadata": {},
   "outputs": [],
   "source": [
    "with open(\"sport.dat\",\"r\") as f:\n",
    "  data = f.read()\n",
    "# decoding the JSON to dictionay\n",
    "d = json.loads(data)\n",
    "d"
   ]
  },
  {
   "cell_type": "code",
   "execution_count": null,
   "metadata": {},
   "outputs": [],
   "source": [
    "#type(d)"
   ]
  },
  {
   "cell_type": "markdown",
   "metadata": {},
   "source": [
    "## 4. Summary"
   ]
  },
  {
   "cell_type": "markdown",
   "metadata": {},
   "source": [
    "This task measures the understanding of the structure of XML and JSON and the conversion between different data types. Although using a existing package might be a more efficient way to convert XML to JSON in Python, as a data-wrangling beginner, it is very necessary to achieve the conversion by writing my own script.\n",
    "\n",
    "The main outcomes achieved while completing this task were:\n",
    "* Figuring out the right regular expression to match the desired string.\n",
    "* Use the right data type to store the extracter string.\n",
    "* Understanding how to nest different data types.\n",
    "* Being aware of the data type of each return, otherwise it is impossible to get the right result."
   ]
  },
  {
   "cell_type": "markdown",
   "metadata": {},
   "source": [
    "## 5. Reference"
   ]
  },
  {
   "cell_type": "markdown",
   "metadata": {},
   "source": [
    "* Python sofyware foundation.(2018) *7. Input and Output — Python 3.6.5 documentation.* Retrieved from https://docs.python.org/3/tutorial/inputoutput.html\n",
    "* Python sofyware foundation.(2018) *20.1. html — HyperText Markup Language support.* Retrieved from https://docs.python.org/3/library/html.html\n",
    "* Python sofyware foundation.(2018) *6.2. re — Regular expression operations.* Retrieved from https://docs.python.org/3/library/re.html\n",
    "* Python sofyware foundation.(2018) *5. Data Structures.* Retrieved from https://docs.python.org/3.6/tutorial/datastructures.html\n",
    "* Python sofyware foundation.(2018) *19.2. json — JSON encoder and decoder.* Retrieved from https://docs.python.org/3.6/library/json.html?highlight=json#module-json\n",
    "* Elledienne(2011, May 5) *JSON output sorting in Python.*[ask] Retrieved from https://stackoverflow.com/questions/2774361/json-output-sorting-in-python"
   ]
  }
 ],
 "metadata": {
  "kernelspec": {
   "display_name": "Python 3",
   "language": "python",
   "name": "python3"
  },
  "language_info": {
   "codemirror_mode": {
    "name": "ipython",
    "version": 3
   },
   "file_extension": ".py",
   "mimetype": "text/x-python",
   "name": "python",
   "nbconvert_exporter": "python",
   "pygments_lexer": "ipython3",
   "version": "3.6.5"
  }
 },
 "nbformat": 4,
 "nbformat_minor": 2
}
